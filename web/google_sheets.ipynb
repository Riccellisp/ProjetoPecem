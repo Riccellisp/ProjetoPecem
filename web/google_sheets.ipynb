{
 "cells": [
  {
   "cell_type": "code",
   "execution_count": 12,
   "id": "0563e466",
   "metadata": {},
   "outputs": [],
   "source": [
    "import pygsheets\n",
    "import pandas as pd\n",
    "#authorization\n",
    "gc = pygsheets.authorize(service_file='/home/pedro/ProjetoPecem/web/dbpecem-cf62256085c7.json')\n",
    "\n",
    "# Create empty dataframe\n",
    "df = pd.DataFrame()\n",
    "\n",
    "# Create a column\n",
    "df['name'] = ['John', 'Steve', 'Sarah']\n",
    "\n",
    "#open the google spreadsheet (where 'PY to Gsheet Test' is the name of my sheet)\n",
    "sh = gc.open('teste_pecem')\n",
    "\n",
    "#select the first sheet \n",
    "wks = sh[0]\n",
    "#print(wks)\n",
    "#wks.resize(10,10) # resize rows and columns of sheet\n",
    "db = wks.get_as_df() # create the dataframe \n",
    "#print(db.head())  # Display DataFrame\n",
    "#print(db['image_name'])\n",
    "#print(df.count())\n"
   ]
  },
  {
   "cell_type": "code",
   "execution_count": null,
   "id": "616d825c",
   "metadata": {},
   "outputs": [],
   "source": []
  },
  {
   "cell_type": "code",
   "execution_count": 16,
   "id": "37c35bb1",
   "metadata": {},
   "outputs": [],
   "source": [
    "db.loc[db['image_name']=='Cam 321 - 21.10.2022 - 22h.jpg', 'ev_label_1'] = 'Ruim'"
   ]
  },
  {
   "cell_type": "code",
   "execution_count": 20,
   "id": "685dbad3",
   "metadata": {},
   "outputs": [],
   "source": [
    "wks.set_dataframe(db,(0,0))"
   ]
  },
  {
   "cell_type": "code",
   "execution_count": null,
   "id": "6b177a9f",
   "metadata": {},
   "outputs": [],
   "source": []
  }
 ],
 "metadata": {
  "kernelspec": {
   "display_name": "Python 3 (ipykernel)",
   "language": "python",
   "name": "python3"
  },
  "language_info": {
   "codemirror_mode": {
    "name": "ipython",
    "version": 3
   },
   "file_extension": ".py",
   "mimetype": "text/x-python",
   "name": "python",
   "nbconvert_exporter": "python",
   "pygments_lexer": "ipython3",
   "version": "3.8.13"
  }
 },
 "nbformat": 4,
 "nbformat_minor": 5
}
